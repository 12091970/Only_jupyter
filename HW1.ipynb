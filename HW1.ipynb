{
 "cells": [
  {
   "cell_type": "markdown",
   "id": "fc52b8d4-7ce8-44e3-9455-662af1e8c822",
   "metadata": {},
   "source": [
    "HOMEWORK 2:На складе лежат разные фрукты в разном количестве.\n",
    "Нужно написать функцию, которая на вход принимает любое количество названий фруктов и их количество, а возвращает общее количество фруктов на складе"
   ]
  },
  {
   "cell_type": "code",
   "execution_count": 30,
   "id": "9c234656-d758-45d9-82fa-be30afbfcc1b",
   "metadata": {
    "tags": []
   },
   "outputs": [
    {
     "name": "stdout",
     "output_type": "stream",
     "text": [
      "4\n"
     ]
    }
   ],
   "source": [
    "def get_sum_of_number(**kwargs):\n",
    "    sum_of_number = sum(kwargs.values())\n",
    "    return sum_of_number\n",
    "    \n",
    "      \n",
    "print(get_sum_of_number(orange=1,mango=3))\n",
    "    \n",
    "\n",
    "\n",
    "\n"
   ]
  },
  {
   "cell_type": "markdown",
   "id": "026a3fc7-838c-446b-9e4d-955353b8b133",
   "metadata": {},
   "source": [
    "HOMEWORK 3:\n",
    "Дан список с затратами на рекламу. Но в данных есть ошибки, некоторые затраты имеют отрицательную величину. Удалите такие значения из списка и посчитайте суммарные затраты\n",
    "[100, 125, -90, 345, 655, -1, 0, 200]\n",
    "Используйте list comprehensions\n",
    "#Удаляем с помощью генерации списка.\n"
   ]
  },
  {
   "cell_type": "code",
   "execution_count": 5,
   "id": "9b54838b-2e5f-450b-a47f-b008ea521e5b",
   "metadata": {},
   "outputs": [
    {
     "data": {
      "text/plain": [
       "[100, 125, 0, 345, 655, 0, 0, 200]"
      ]
     },
     "execution_count": 5,
     "metadata": {},
     "output_type": "execute_result"
    }
   ],
   "source": [
    "mix =[100, 125, -90, 345, 655, -1, 0, 200] \n",
    "only_positive = [i if i > 0 else 0 for i in mix]\n",
    "only_positive\n",
    "\n",
    "\n"
   ]
  },
  {
   "cell_type": "code",
   "execution_count": 6,
   "id": "f23b3ca4-28b9-4c65-aa8b-17c8b61f6c2d",
   "metadata": {
    "tags": []
   },
   "outputs": [
    {
     "data": {
      "text/plain": [
       "1425"
      ]
     },
     "execution_count": 6,
     "metadata": {},
     "output_type": "execute_result"
    }
   ],
   "source": [
    "sum_only_positive = sum(only_positive)\n",
    "sum_only_positive"
   ]
  },
  {
   "cell_type": "markdown",
   "id": "ba9f9836-c715-4f50-a5e0-185474200b53",
   "metadata": {},
   "source": [
    "HOMEWORK 4:\n",
    "Даны два списка.\n",
    "Дата покупки\n",
    "(2021-09-14, 2021-12-15: 2021-09-08: 2021-12-05, 2021-10-09: 2021-09-30, 2021-12-22 2021-11-29: 2021-12-24: 2021-11-26, 2021-10-27, 2021-12-18, 2021-11-09: 2021-11-23\n",
    "2021-09-27, 2021-10-02: 2021-12-274, 2021-09-20: 2021-12-13: 2021-11-01: 2021-11-09, 2021-12-06, 2021-12-08:, 2021-10-09: 2021-10-31: 2021-09-30: 2021-11-09, 2021-12-13\n",
    "'2021-10-26, '2021-12-09).\n",
    "Суммы покупок по датам:\n",
    "(11270,8413, 9020, 3703, 573, 4095, 295, 4944, 5723, 3701, 4471, 051, 7037, 4274, 6275, 4903, 6930, 2971, 0592, 2004, 2822, 519, 3406, 2732, 5015, 2008, 316, 6333, 5700, 28877).\n"
   ]
  },
  {
   "cell_type": "markdown",
   "id": "dba6c511-b540-42e0-ab3b-caaef292069e",
   "metadata": {
    "tags": []
   },
   "source": [
    "4.1 Найдите, какая выручка у компании в ноябре.\n",
    "Используйте list comprehensions.\n"
   ]
  },
  {
   "cell_type": "code",
   "execution_count": 48,
   "id": "d26fb2bd-7bf3-4b7a-b66c-021325d34c3f",
   "metadata": {
    "tags": []
   },
   "outputs": [
    {
     "name": "stdout",
     "output_type": "stream",
     "text": [
      "25098\n"
     ]
    }
   ],
   "source": [
    "\n",
    "times = ['2021-09-14', '2021-12-15', '2021-09-08', '2021-12-05', '2021-10-09', '2021-09-30', '2021-12-22', '2021-11-29', '2021-12-24', '2021-11-26', '2021-10-27', '2021-12-18', '2021-11-09', '2021-11-23',\n",
    "'2021-09-27', '2021-10-02', '2021-12-27', '2021-09-20', '2021-12-13', '2021-11-01', '2021-11-09', '2021-12-06', '2021-12-08', '2021-10-09', '2021-10-31', '2021-09-30', '2021-11-09', '2021-12-13',\n",
    "'2021-10-26','2021-12-09']\n",
    "\n",
    "money = [11270, 8413, 9020, 3703, 573, 4095, 295, 4944, 5723, 3701, 4471, 51, 7037, 4274, 6275, 4903, 6930, 2971, 592, 2004, 2822, 519, 3406, 2732, 5015, 2008, 316, 6333, 5700, 28877]\n",
    "\n",
    "print(sum([money[i]for i in range(0, len(times)-1) if '-11-' in times[i]]))\n"
   ]
  },
  {
   "cell_type": "markdown",
   "id": "147a7f49-c321-4809-a92e-8e43f514f0d6",
   "metadata": {},
   "source": [
    "4.2 Найдите выручку компании в зависимости от месяца.\n",
    "Для этого напишите функцию, которая на вход принимает список с датами и список с выручкой, а на выходе словарь, где ключи - это месяцы, а значения - это выручка\n",
    "Используйте аннотирование типов.\n"
   ]
  },
  {
   "cell_type": "code",
   "execution_count": 15,
   "id": "6a1ee778-8329-4dfc-8329-fa91f06c00ec",
   "metadata": {
    "tags": []
   },
   "outputs": [
    {
     "ename": "TypeError",
     "evalue": "get_dict() missing 2 required positional arguments: 'list1' and 'list2'",
     "output_type": "error",
     "traceback": [
      "\u001b[0;31m---------------------------------------------------------------------------\u001b[0m",
      "\u001b[0;31mTypeError\u001b[0m                                 Traceback (most recent call last)",
      "Cell \u001b[0;32mIn[15], line 16\u001b[0m\n\u001b[1;32m     14\u001b[0m             month[key[\u001b[38;5;241m5\u001b[39m:\u001b[38;5;241m7\u001b[39m]] \u001b[38;5;241m=\u001b[39m value\n\u001b[1;32m     15\u001b[0m     \u001b[38;5;28;01mreturn\u001b[39;00m month \n\u001b[0;32m---> 16\u001b[0m \u001b[43mget_dict\u001b[49m\u001b[43m(\u001b[49m\u001b[43m)\u001b[49m\n",
      "\u001b[0;31mTypeError\u001b[0m: get_dict() missing 2 required positional arguments: 'list1' and 'list2'"
     ]
    }
   ],
   "source": [
    "\n",
    "\n",
    "def get_dict(list1:list,list2:list)-> dict: \n",
    "      \n",
    "    times = ['2021-09-14', '2021-12-15', '2021-09-08', '2021-12-05', '2021-10-09', '2021-09-30', '2021-12-22', '2021-11-29', '2021-12-24', '2021-11-26', '2021-10-27', '2021-12-18', '2021-11-09', '2021-11-23',\n",
    "'2021-09-27', '2021-10-02', '2021-12-27', '2021-09-20', '2021-12-13', '2021-11-01', '2021-11-09', '2021-12-06', '2021-12-08', '2021-10-09', '2021-10-31', '2021-09-30', '2021-11-09', '2021-12-13',\n",
    "'2021-10-26','2021-12-09']\n",
    "\n",
    "    money = [11270, 8413, 9020, 3703, 573, 4095, 295, 4944, 5723, 3701, 4471, 51, 7037, 4274, 6275, 4903, 6930, 2971, 592, 2004, 2822, 519, 3406, 2732, 5015, 2008, 316, 6333, 5700, 28877]    \n",
    "\n",
    "    month = dict()\n",
    "    for key, value in zip(list1,list2):\n",
    "        if month.get(key[5:7]):\n",
    "            month[key[5:7]] = month[key[5:7]] + value\n",
    "        else:\n",
    "            month[key[5:7]] = value\n",
    "    return month \n",
    "get_dict()"
   ]
  },
  {
   "cell_type": "code",
   "execution_count": 16,
   "id": "6ad446e3-b3be-44dd-a110-6b2a3d560374",
   "metadata": {
    "tags": []
   },
   "outputs": [
    {
     "ename": "NameError",
     "evalue": "name 'list1' is not defined",
     "output_type": "error",
     "traceback": [
      "\u001b[0;31m---------------------------------------------------------------------------\u001b[0m",
      "\u001b[0;31mNameError\u001b[0m                                 Traceback (most recent call last)",
      "Cell \u001b[0;32mIn[16], line 1\u001b[0m\n\u001b[0;32m----> 1\u001b[0m \u001b[38;5;28mprint\u001b[39m(get_dict(\u001b[43mlist1\u001b[49m,list2))\n",
      "\u001b[0;31mNameError\u001b[0m: name 'list1' is not defined"
     ]
    }
   ],
   "source": [
    "print(get_dict(list1,list2))"
   ]
  },
  {
   "cell_type": "code",
   "execution_count": null,
   "id": "2d2d105e-1239-4ae1-ae84-216d69503a39",
   "metadata": {},
   "outputs": [],
   "source": []
  }
 ],
 "metadata": {
  "kernelspec": {
   "display_name": "Python 3 (ipykernel)",
   "language": "python",
   "name": "python3"
  },
  "language_info": {
   "codemirror_mode": {
    "name": "ipython",
    "version": 3
   },
   "file_extension": ".py",
   "mimetype": "text/x-python",
   "name": "python",
   "nbconvert_exporter": "python",
   "pygments_lexer": "ipython3",
   "version": "3.9.2rc1"
  }
 },
 "nbformat": 4,
 "nbformat_minor": 5
}
